{
 "cells": [
  {
   "cell_type": "code",
   "execution_count": 7,
   "metadata": {},
   "outputs": [],
   "source": [
    "import requests\n",
    "from bs4 import BeautifulSoup\n",
    "import pandas as pd\n",
    "#import numpy as np\n",
    "#import sqlite3\n",
    "#import json\n",
    "\n",
    "baseurl = 'https://www.sephora.com/'\n",
    "headers = {\n",
    "    'User-Agent': 'Mozilla/5.0 (Windows NT 10.0; Win64; x64) AppleWebKit/537.36 (KHTML, like Gecko) Chrome/129.0.0.0 Safari/537.36'\n",
    "}"
   ]
  },
  {
   "cell_type": "code",
   "execution_count": 13,
   "metadata": {},
   "outputs": [
    {
     "name": "stdout",
     "output_type": "stream",
     "text": [
      "https://www.sephora.com//product/summer-fridays-lip-butter-balm-P455936?skuId=2802163&icid2=products grid:p455936:product\n"
     ]
    }
   ],
   "source": [
    "productlinks = []\n",
    "#50\n",
    "for x in range (1):\n",
    "    r = requests.get(f'https://www.sephora.com/shop/skincare?currentPage={x}', headers=headers)\n",
    "    soup = BeautifulSoup(r.text, 'lxml')\n",
    "    productlist = soup.find_all('div', class_='css-foh208')\n",
    "    for item in productlist:\n",
    "        for link in item.find_all('a', href=True):\n",
    "            productlinks.append(baseurl + link['href'])\n",
    "\n",
    "print(productlinks[0])"
   ]
  },
  {
   "cell_type": "code",
   "execution_count": 14,
   "metadata": {},
   "outputs": [
    {
     "name": "stdout",
     "output_type": "stream",
     "text": [
      "Summer Fridays\n",
      "Lip Butter Balm for Hydration & Shine\n"
     ]
    }
   ],
   "source": [
    "testlink = productlinks[0]\n",
    "r = requests.get(testlink, headers = headers)\n",
    "soup = BeautifulSoup(r.content, 'lxml')\n",
    "\n",
    "\n",
    "brand = soup.find('a', {'class' : 'css-11cofee eanm77i0'}).text.strip()\n",
    "productName = soup.find('span', {'class' : 'css-1pgnl76 eanm77i0'}).text.strip()\n",
    "#ingredients = soup.find_all('div', {'class' : 'css-1ue8dmw eanm77i0'})\n",
    "#for x in ingredients:\n",
    "#    print(x.find('p'))\n",
    "for parent_div in soup.find_all('div', class_='css-1ue8dmw eanm77i0'):\n",
    "    # Find all child divs within the parent div, regardless of class\n",
    "    child_divs = parent_div.find_all('p')\n",
    "\n",
    "\n",
    "#ingredientsss = soup.find('div', attrs={'id':'ingredients'})\n",
    "#ingredientss = soup.find('div', class_='css-1ue8dmw eanm77i0')\n",
    "#ingredients = soup.find_all('div', {'class' : 'css-1ue8dmw eanm77i0'})\n",
    "\n",
    "print(brand)\n",
    "print(productName)\n",
    "\n"
   ]
  },
  {
   "cell_type": "code",
   "execution_count": null,
   "metadata": {},
   "outputs": [
    {
     "name": "stdout",
     "output_type": "stream",
     "text": [
      "Error while scraping https://www.sephora.com//product/summer-fridays-lip-butter-balm-P455936?skuId=2802163&icid2=products grid:p455936:product: 'NoneType' object has no attribute 'text'\n",
      "Error while scraping https://www.sephora.com//product/the-ordinary-deciem-niacinamide-10-zinc-1-P427417?skuId=2031391&icid2=products grid:p427417:product: 'NoneType' object has no attribute 'text'\n",
      "Error while scraping https://www.sephora.com//product/touchland-power-mist-hydrating-hand-sanitizer-P480529?skuId=2556785&icid2=products grid:p480529:product: 'NoneType' object has no attribute 'text'\n",
      "Error while scraping https://www.sephora.com//product/the-acne-set-P507659?skuId=2698355&icid2=products grid:p507659:product: 'NoneType' object has no attribute 'text'\n",
      "Error while scraping https://www.sephora.com//product/sos-save-our-skin-daily-rescue-facial-spray-P448852?skuId=2527844&icid2=products grid:p448852:product: 'NoneType' object has no attribute 'text'\n",
      "Error while scraping https://www.sephora.com//product/lip-sleeping-mask-P420652?skuId=1966258&icid2=products grid:p420652:product: 'NoneType' object has no attribute 'text'\n",
      "Error while scraping https://www.sephora.com//product/the-ordinary-hyaluronic-acid-2-b5-hydrating-serum-P427419?skuId=2735132&icid2=products grid:p427419:product: 'NoneType' object has no attribute 'text'\n",
      "Error while scraping https://www.sephora.com//product/glow-recipe-watermelon-glow-pha-bha-pore-tight-toner-P458219?skuId=2348431&icid2=products grid:p458219:product: 'NoneType' object has no attribute 'text'\n",
      "Empty DataFrame\n",
      "Columns: []\n",
      "Index: []\n"
     ]
    }
   ],
   "source": [
    "products_data = []\n",
    "for link in productlinks:\n",
    "    r = requests.get(link, headers=headers)\n",
    "    soup = BeautifulSoup(r.content, 'lxml')\n",
    "\n",
    "    try:\n",
    "        # Extracting product name and ingredients\n",
    "        brand = soup.find('a', class_='css-11cofee eanm77i0').text.strip()\n",
    "        name = soup.find('h1', class_='css-1pgn176 eanm77i0').text.strip()\n",
    "        #ingredients = soup.find('div', class_='css-1ue8dmw eanm77i0').text.strip()\n",
    "\n",
    "        # Extracting and formatting nutrition facts\n",
    "        #try:\n",
    "        #    nutritions = soup.find('section', class_='w-pie--nutrition-facts').text.strip()\n",
    "        #except AttributeError:\n",
    "        #    nutritions = {}\n",
    "\n",
    "        # Store the product details in a dictionary\n",
    "        babyfood = {\n",
    "            'brand': brand,\n",
    "            'name': name\n",
    "            #'ingredients': ingredients\n",
    "        #    'nutritions': nutritions\n",
    "        }\n",
    "\n",
    "        # Append the baby food data to the product list\n",
    "        products_data.append(babyfood)\n",
    "\n",
    "    except Exception as e:\n",
    "        print(f\"Error while scraping {link}: {e}\")\n",
    "\n",
    "# Create a pandas DataFrame\n",
    "df = pd.DataFrame(products_data)\n",
    "print(df)"
   ]
  }
 ],
 "metadata": {
  "kernelspec": {
   "display_name": "Python 3",
   "language": "python",
   "name": "python3"
  },
  "language_info": {
   "codemirror_mode": {
    "name": "ipython",
    "version": 3
   },
   "file_extension": ".py",
   "mimetype": "text/x-python",
   "name": "python",
   "nbconvert_exporter": "python",
   "pygments_lexer": "ipython3",
   "version": "3.13.0"
  }
 },
 "nbformat": 4,
 "nbformat_minor": 2
}
